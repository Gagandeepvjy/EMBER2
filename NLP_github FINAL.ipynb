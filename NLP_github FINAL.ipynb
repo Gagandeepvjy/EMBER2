{
  "nbformat": 4,
  "nbformat_minor": 0,
  "metadata": {
    "colab": {
      "provenance": [],
      "gpuType": "T4"
    },
    "kernelspec": {
      "name": "python3",
      "display_name": "Python 3"
    },
    "language_info": {
      "name": "python"
    },
    "accelerator": "GPU"
  },
  "cells": [
    {
      "cell_type": "code",
      "execution_count": null,
      "metadata": {
        "colab": {
          "base_uri": "https://localhost:8080/"
        },
        "id": "GkZF6hbfQw9J",
        "outputId": "9947bc94-831b-4de0-d23c-a56ac7ba1b65"
      },
      "outputs": [
        {
          "output_type": "stream",
          "name": "stdout",
          "text": [
            "Cloning into 'EMBER2'...\n",
            "remote: Enumerating objects: 83, done.\u001b[K\n",
            "remote: Counting objects: 100% (83/83), done.\u001b[K\n",
            "remote: Compressing objects: 100% (78/78), done.\u001b[K\n",
            "remote: Total 83 (delta 30), reused 10 (delta 2), pack-reused 0 (from 0)\u001b[K\n",
            "Receiving objects: 100% (83/83), 23.50 MiB | 20.04 MiB/s, done.\n",
            "Resolving deltas: 100% (30/30), done.\n"
          ]
        }
      ],
      "source": [
        "!git clone https://github.com/kWeissenow/EMBER2"
      ]
    },
    {
      "cell_type": "code",
      "source": [
        "%cd /content/EMBER2\n"
      ],
      "metadata": {
        "colab": {
          "base_uri": "https://localhost:8080/"
        },
        "id": "AAfY-2_qSk-k",
        "outputId": "f36e36a2-3b69-4e39-ba99-f021074abf80"
      },
      "execution_count": null,
      "outputs": [
        {
          "output_type": "stream",
          "name": "stdout",
          "text": [
            "/content/EMBER2\n"
          ]
        }
      ]
    },
    {
      "cell_type": "code",
      "source": [
        "!mkdir -p ./output_directory\n"
      ],
      "metadata": {
        "id": "Jmmmylz6RxZZ"
      },
      "execution_count": null,
      "outputs": []
    },
    {
      "cell_type": "code",
      "source": [
        "!python predict.py  -o ./output_directory\n"
      ],
      "metadata": {
        "colab": {
          "base_uri": "https://localhost:8080/"
        },
        "id": "JKJ2a2f8RE5q",
        "outputId": "4bed1ac1-52a8-460c-cd83-b4fd9993907a"
      },
      "execution_count": null,
      "outputs": [
        {
          "output_type": "stream",
          "name": "stdout",
          "text": [
            "Using device: cuda:0\n",
            "config.json: 100% 546/546 [00:00<00:00, 3.51MB/s]\n",
            "pytorch_model.bin: 100% 11.3G/11.3G [00:54<00:00, 209MB/s]\n",
            "tokenizer_config.json: 100% 24.0/24.0 [00:00<00:00, 126kB/s]\n",
            "spiece.model: 100% 238k/238k [00:00<00:00, 303MB/s]\n",
            "special_tokens_map.json: 100% 1.79k/1.79k [00:00<00:00, 8.87MB/s]\n",
            "/usr/local/lib/python3.10/dist-packages/transformers/tokenization_utils_base.py:1601: FutureWarning: `clean_up_tokenization_spaces` was not set. It will be set to `True` by default. This behavior will be depracted in transformers v4.45, and will be then set to `False` by default. For more details check this issue: https://github.com/huggingface/transformers/issues/31884\n",
            "  warnings.warn(\n",
            "/content/EMBER2/predict.py:81: FutureWarning: You are using `torch.load` with `weights_only=False` (the current default value), which uses the default pickle module implicitly. It is possible to construct malicious pickle data which will execute arbitrary code during unpickling (See https://github.com/pytorch/pytorch/blob/main/SECURITY.md#untrusted-models for more details). In a future release, the default value for `weights_only` will be flipped to `True`. This limits the functions that could be executed during unpickling. Arbitrary objects will no longer be allowed to be loaded via this mode unless they are explicitly allowlisted by the user via `torch.serialization.add_safe_globals`. We recommend you start setting `weights_only=True` for any use case where you don't have full control of the loaded file. Please open an issue on GitHub for any issues related to this experimental feature.\n",
            "  dst_model.load_state_dict(torch.load(dst_model_path))\n",
            "0 input_sequence (725 residues)\n",
            "...........\n"
          ]
        }
      ]
    },
    {
      "cell_type": "code",
      "source": [
        "!pip install pyrosetta-installer"
      ],
      "metadata": {
        "colab": {
          "base_uri": "https://localhost:8080/"
        },
        "id": "r90o94kQWuJJ",
        "outputId": "474024fe-3532-4794-9560-a226dc691f46"
      },
      "execution_count": null,
      "outputs": [
        {
          "output_type": "stream",
          "name": "stdout",
          "text": [
            "Collecting pyrosetta-installer\n",
            "  Downloading pyrosetta_installer-0.1.1-py3-none-any.whl.metadata (1.6 kB)\n",
            "Downloading pyrosetta_installer-0.1.1-py3-none-any.whl (3.9 kB)\n",
            "Installing collected packages: pyrosetta-installer\n",
            "Successfully installed pyrosetta-installer-0.1.1\n"
          ]
        }
      ]
    },
    {
      "cell_type": "code",
      "source": [
        "!python -c 'import pyrosetta_installer; pyrosetta_installer.install_pyrosetta()'"
      ],
      "metadata": {
        "colab": {
          "base_uri": "https://localhost:8080/"
        },
        "id": "PFn2cVAKXtGm",
        "outputId": "3112dd4a-90f4-49a0-ef02-089b260a58a5"
      },
      "execution_count": null,
      "outputs": [
        {
          "output_type": "stream",
          "name": "stdout",
          "text": [
            "Installing PyRosetta:\n",
            " os: ubuntu\n",
            " type: Release\n",
            " Rosetta C++ extras: \n",
            " mirror: https://west.rosettacommons.org/pyrosetta/release/release\n",
            " extra packages: numpy\n",
            "\n",
            "PyRosetta wheel url: https://:@west.rosettacommons.org/pyrosetta/release/release/PyRosetta4.Release.python310.ubuntu.wheel/pyrosetta-2024.19+release.a34b73c40f-cp310-cp310-linux_x86_64.whl\n",
            "Collecting pyrosetta==2024.19+release.a34b73c40f\n",
            "  Downloading https://:****@west.rosettacommons.org/pyrosetta/release/release/PyRosetta4.Release.python310.ubuntu.wheel/pyrosetta-2024.19+release.a34b73c40f-cp310-cp310-linux_x86_64.whl (1665.3 MB)\n",
            "\u001b[2K     \u001b[90m━━━━━━━━━━━━━━━━━━━━━━━━━━━━━━━━━━━━━━━━\u001b[0m \u001b[32m1.7/1.7 GB\u001b[0m \u001b[31m809.8 kB/s\u001b[0m eta \u001b[36m0:00:00\u001b[0m\n",
            "\u001b[?25hInstalling collected packages: pyrosetta\n",
            "Successfully installed pyrosetta-2024.19+release.a34b73c40f\n",
            "Requirement already satisfied: numpy in /usr/local/lib/python3.10/dist-packages (1.26.4)\n"
          ]
        }
      ]
    },
    {
      "cell_type": "code",
      "source": [
        "!python /content/EMBER2/folding/trRosetta.py -m 0 -pd 0.05 /content/EMBER2/output_directory/input_sequence/distogram.npy  output.pdb\n",
        "\n"
      ],
      "metadata": {
        "colab": {
          "base_uri": "https://localhost:8080/"
        },
        "id": "KaJ3GXQQRavS",
        "outputId": "34d5ee60-be58-436d-9a14-12fc16282bd5"
      },
      "execution_count": null,
      "outputs": [
        {
          "metadata": {
            "tags": null
          },
          "name": "stdout",
          "output_type": "stream",
          "text": [
            "*********************************************************************\n",
            "*           _        ____                _   _                      *\n",
            "*          | |_ _ __|  _ \\ ___  ___  ___| |_| |_ __ _               *\n",
            "*          | __| '__| |_) / _ \\/ __|/ _ \\ __| __/ _` |              *\n",
            "*          | |_| |  |  _ < (_) \\__ \\  __/ |_| || (_| |              *\n",
            "*           \\__|_|  |_| \\_\\___/|___/\\___|\\__|\\__\\__,_|              *\n",
            "*                                                                   *\n",
            "* J Yang et al, Improved protein structure prediction using         *\n",
            "* predicted interresidue orientations, PNAS, 117: 1496-1503 (2020)  *\n",
            "* Please email your comments to: yangjy@nankai.edu.cn               *\n",
            "* Modified by K. Weissenow for EMBER2 structure predictions.        *\n",
            "*********************************************************************\n",
            "Namespace(NPZ='/content/EMBER2/output_directory/input_sequence/distogram.npy', OUT='output.pdb', decoys_per_pcut=10, num_relax=50, pcut=0.05, mode=0, wdir='/dev/shm', steps=1000, use_orient=False, fastrelax=True)\n",
            "┌──────────────────────────────────────────────────────────────────────────────┐\n",
            "│                                 PyRosetta-4                                  │\n",
            "│              Created in JHU by Sergey Lyskov and PyRosetta Team              │\n",
            "│              (C) Copyright Rosetta Commons Member Institutions               │\n",
            "│                                                                              │\n",
            "│ NOTE: USE OF PyRosetta FOR COMMERCIAL PURPOSES REQUIRE PURCHASE OF A LICENSE │\n",
            "│         See LICENSE.PyRosetta.md or email license@uw.edu for details         │\n",
            "└──────────────────────────────────────────────────────────────────────────────┘\n",
            "PyRosetta-4 2024 [Rosetta PyRosetta4.Release.python310.ubuntu 2024.19+release.a34b73c40fe9c61558d566d6a63f803cfb15a4fc 2024-05-02T16:22:03] retrieved from: http://www.pyrosetta.org\n",
            "temp folder:      /dev/shm/8fs38nnm\n",
            "dist restraints:  196873\n",
            "omega restraints: 0\n",
            "theta restraints: 0\n",
            "phi restraints:   0\n",
            "short\n",
            "medium\n",
            "long\n",
            "relax...\n"
          ]
        }
      ]
    },
    {
      "cell_type": "code",
      "source": [],
      "metadata": {
        "id": "KZq9qOf0aTKp"
      },
      "execution_count": null,
      "outputs": []
    }
  ]
}